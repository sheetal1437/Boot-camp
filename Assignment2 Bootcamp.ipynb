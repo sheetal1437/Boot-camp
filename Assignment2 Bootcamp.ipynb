{
 "cells": [
  {
   "cell_type": "markdown",
   "id": "72e98dd2",
   "metadata": {},
   "source": [
    " # Bootcamp Assignment 2\n",
    " Sheetal Malhotra (96101)"
   ]
  },
  {
   "cell_type": "markdown",
   "id": "da3594ac",
   "metadata": {},
   "source": [
    "# Q1. Given a list of integers, remove all occurrences of a specific value using a list method.¶"
   ]
  },
  {
   "cell_type": "code",
   "execution_count": 22,
   "id": "2db43132",
   "metadata": {},
   "outputs": [
    {
     "data": {
      "text/plain": [
       "[1, 2, 2, 2, 2, 2, 5, 4, 4, 4, 4, 2, 2, 5, 2]"
      ]
     },
     "execution_count": 22,
     "metadata": {},
     "output_type": "execute_result"
    }
   ],
   "source": [
    "l = [1, 2,2,2,2,3,3,2,3,5,4,4,4, 4, 2, 2, 5, 2]\n",
    "value_to_remove = 3\n",
    "l.remove(value_to_remove)\n",
    "l = [x for x in l if x != value_to_remove]\n",
    "l"
   ]
  },
  {
   "cell_type": "markdown",
   "id": "4fc5c50c",
   "metadata": {},
   "source": [
    "#### Q2.\tConcatenate a list of strings into a single string, with each element separated by a space, using a list method."
   ]
  },
  {
   "cell_type": "code",
   "execution_count": 24,
   "id": "022fa226",
   "metadata": {},
   "outputs": [
    {
     "data": {
      "text/plain": [
       "'Python Programming Language is suitable for AI-ML'"
      ]
     },
     "execution_count": 24,
     "metadata": {},
     "output_type": "execute_result"
    }
   ],
   "source": [
    "l1 = [\"Python\",\"Programming\",\"Language\",\"is\",\"suitable\",\"for\",\"AI-ML\"]\n",
    "result = \" \".join(l1)\n",
    "result "
   ]
  },
  {
   "cell_type": "markdown",
   "id": "8b4ef5eb",
   "metadata": {},
   "source": [
    "#### Q3.\tReverse a list of integers using a built-in list method."
   ]
  },
  {
   "cell_type": "code",
   "execution_count": 25,
   "id": "e0d80943",
   "metadata": {},
   "outputs": [
    {
     "data": {
      "text/plain": [
       "[0, 9, 6, 5, 4, 3, 2, 1]"
      ]
     },
     "execution_count": 25,
     "metadata": {},
     "output_type": "execute_result"
    }
   ],
   "source": [
    "l3 = [1,2,3,4,5,6,9,0]\n",
    "l3.reverse()\n",
    "l3"
   ]
  },
  {
   "cell_type": "markdown",
   "id": "45ca59e9",
   "metadata": {},
   "source": [
    "#### Q4.\tSort a list of numbers in descending order using a built-in list method."
   ]
  },
  {
   "cell_type": "code",
   "execution_count": 26,
   "id": "1af21b42",
   "metadata": {},
   "outputs": [
    {
     "data": {
      "text/plain": [
       "[78, 51, 12, 12, 8, 7, 7, 6, 6, 5, 3]"
      ]
     },
     "execution_count": 26,
     "metadata": {},
     "output_type": "execute_result"
    }
   ],
   "source": [
    "l4 = [12,3,51,6,7,78,12,5,6,7,8]\n",
    "l4.sort(reverse=True)\n",
    "l4"
   ]
  },
  {
   "cell_type": "markdown",
   "id": "89b3cd84",
   "metadata": {},
   "source": [
    "#### Q5.\tGiven two lists, combine them into a single list and remove any duplicate elements using a list method."
   ]
  },
  {
   "cell_type": "code",
   "execution_count": 27,
   "id": "6ea19bb7",
   "metadata": {},
   "outputs": [
    {
     "data": {
      "text/plain": [
       "[1, 2, 3, 4, 5, 6, 7, 8, 9]"
      ]
     },
     "execution_count": 27,
     "metadata": {},
     "output_type": "execute_result"
    }
   ],
   "source": [
    "list1 = [1, 2, 3, 4, 5]\n",
    "list2 = [3, 4, 5, 6, 7,8,9]\n",
    "combined_list = list(set(list1 + list2))\n",
    "combined_list"
   ]
  },
  {
   "cell_type": "markdown",
   "id": "62af2a0c",
   "metadata": {},
   "source": [
    "#### Q6.\tConvert a tuple of integers into a list and remove the first and last elements using a tuple method."
   ]
  },
  {
   "cell_type": "code",
   "execution_count": 7,
   "id": "0dfebc4f",
   "metadata": {},
   "outputs": [
    {
     "data": {
      "text/plain": [
       "[8, 5, 1, 9]"
      ]
     },
     "execution_count": 7,
     "metadata": {},
     "output_type": "execute_result"
    }
   ],
   "source": [
    "t = (3,8,5,1,9,4)\n",
    "t1=list(t)[1:-1]\n",
    "# tup = t1[1:-1]\n",
    "t1"
   ]
  },
  {
   "cell_type": "markdown",
   "id": "463c67fa",
   "metadata": {},
   "source": [
    "#### Q7.\tGiven a list of tuples, extract all the first elements of each tuple into a separate list using tuple unpacking."
   ]
  },
  {
   "cell_type": "code",
   "execution_count": 8,
   "id": "57e2639c",
   "metadata": {},
   "outputs": [
    {
     "data": {
      "text/plain": [
       "[1, 3, 5]"
      ]
     },
     "execution_count": 8,
     "metadata": {},
     "output_type": "execute_result"
    }
   ],
   "source": [
    "ls = [(1,2),(3,4),(5,6)]\n",
    "sep = [x for x, _ in ls]\n",
    "sep"
   ]
  },
  {
   "cell_type": "markdown",
   "id": "96f94747",
   "metadata": {},
   "source": [
    "#### Q8.\tCombine two tuples into a single tuple."
   ]
  },
  {
   "cell_type": "code",
   "execution_count": 9,
   "id": "12698c8d",
   "metadata": {},
   "outputs": [
    {
     "data": {
      "text/plain": [
       "(1, 2, 3, 4, 5, 6)"
      ]
     },
     "execution_count": 9,
     "metadata": {},
     "output_type": "execute_result"
    }
   ],
   "source": [
    "tuple1 = (1, 2, 3)\n",
    "tuple2 = (4, 5, 6)\n",
    "comb_tuple = tuple1 + tuple2\n",
    "comb_tuple"
   ]
  },
  {
   "cell_type": "markdown",
   "id": "07c8d449",
   "metadata": {},
   "source": [
    "#### Q9.\tFind the maximum and minimum values in a tuple of numbers using tuple methods."
   ]
  },
  {
   "cell_type": "code",
   "execution_count": 10,
   "id": "45fa7808",
   "metadata": {},
   "outputs": [
    {
     "name": "stdout",
     "output_type": "stream",
     "text": [
      "40\n",
      "5\n"
     ]
    }
   ],
   "source": [
    "num = (10, 20, 5, 40, 30)\n",
    "maxi = max(num)\n",
    "mini = min(num)\n",
    "print(maxi)  \n",
    "print(mini)  "
   ]
  },
  {
   "cell_type": "markdown",
   "id": "f99913e3",
   "metadata": {},
   "source": [
    "#### Q10.\tConvert a tuple of strings into a single string, with each element separated by a comma, using tuple methods."
   ]
  },
  {
   "cell_type": "code",
   "execution_count": 11,
   "id": "0e5e9d38",
   "metadata": {},
   "outputs": [
    {
     "data": {
      "text/plain": [
       "'How, are, you'"
      ]
     },
     "execution_count": 11,
     "metadata": {},
     "output_type": "execute_result"
    }
   ],
   "source": [
    "s_tup = (\"How\", \"are\", \"you\")\n",
    "comb_s = ', '.join(s_tup)\n",
    "comb_s"
   ]
  },
  {
   "cell_type": "markdown",
   "id": "924df4c0",
   "metadata": {},
   "source": [
    "#### Q11.\tGiven two sets, return the union of the two sets using a set operation."
   ]
  },
  {
   "cell_type": "code",
   "execution_count": 12,
   "id": "e2acc182",
   "metadata": {},
   "outputs": [
    {
     "data": {
      "text/plain": [
       "{1, 2, 3, 4, 5}"
      ]
     },
     "execution_count": 12,
     "metadata": {},
     "output_type": "execute_result"
    }
   ],
   "source": [
    "set1 = {1, 2, 3}\n",
    "set2 = {3, 4, 1, 5}\n",
    "opr = set1.union(set2)\n",
    "opr\n",
    "# set_opr = set1 | set2"
   ]
  },
  {
   "cell_type": "markdown",
   "id": "f91d9fcc",
   "metadata": {},
   "source": [
    "#### Q12.\tFind the intersection of two sets using a set method."
   ]
  },
  {
   "cell_type": "code",
   "execution_count": 13,
   "id": "9cc38f15",
   "metadata": {},
   "outputs": [
    {
     "data": {
      "text/plain": [
       "{1, 3}"
      ]
     },
     "execution_count": 13,
     "metadata": {},
     "output_type": "execute_result"
    }
   ],
   "source": [
    "inter_opr = set1.intersection(set2)\n",
    "inter_opr"
   ]
  },
  {
   "cell_type": "markdown",
   "id": "b5dd942d",
   "metadata": {},
   "source": [
    "#### Q13.\tRemove all elements from one set that are also present in another set using a set method."
   ]
  },
  {
   "cell_type": "code",
   "execution_count": 14,
   "id": "9bddecba",
   "metadata": {},
   "outputs": [
    {
     "data": {
      "text/plain": [
       "{1, 3}"
      ]
     },
     "execution_count": 14,
     "metadata": {},
     "output_type": "execute_result"
    }
   ],
   "source": [
    "set1.intersection_update(set2)\n",
    "set1"
   ]
  },
  {
   "cell_type": "markdown",
   "id": "604b2f6a",
   "metadata": {},
   "source": [
    "#### Q14.\tFind the difference between two sets using a set method."
   ]
  },
  {
   "cell_type": "code",
   "execution_count": 15,
   "id": "f0f5b2fc",
   "metadata": {},
   "outputs": [
    {
     "data": {
      "text/plain": [
       "set()"
      ]
     },
     "execution_count": 15,
     "metadata": {},
     "output_type": "execute_result"
    }
   ],
   "source": [
    "diff_opr = set1.difference(set2)\n",
    "diff_opr"
   ]
  },
  {
   "cell_type": "markdown",
   "id": "f60c44b0",
   "metadata": {},
   "source": [
    "#### Q15.\tConvert a list of integers into a set and then back to a list to remove duplicates, using set operations."
   ]
  },
  {
   "cell_type": "code",
   "execution_count": 16,
   "id": "d8fab2b1",
   "metadata": {},
   "outputs": [
    {
     "data": {
      "text/plain": [
       "[1, 2, 3, 4, 5]"
      ]
     },
     "execution_count": 16,
     "metadata": {},
     "output_type": "execute_result"
    }
   ],
   "source": [
    "num_list = [1, 2, 3, 4, 5, 1, 2, 3]\n",
    "num_set = set(num_list)\n",
    "s = list(num_set)\n",
    "s"
   ]
  },
  {
   "cell_type": "markdown",
   "id": "8f9f9d61",
   "metadata": {},
   "source": [
    "#### Q16.\tMerge two dictionaries into a single dictionary using a dictionary method."
   ]
  },
  {
   "cell_type": "code",
   "execution_count": 17,
   "id": "7f70215f",
   "metadata": {},
   "outputs": [
    {
     "data": {
      "text/plain": [
       "{'a': 1, 'b': 3, 'c': 4}"
      ]
     },
     "execution_count": 17,
     "metadata": {},
     "output_type": "execute_result"
    }
   ],
   "source": [
    "dict1 = {'a': 1, 'b': 2}\n",
    "dict2 = {'b': 3, 'c': 4}\n",
    "merged_dict = {**dict1, **dict2}\n",
    "merged_dict"
   ]
  },
  {
   "cell_type": "markdown",
   "id": "4154f7fd",
   "metadata": {},
   "source": [
    "#### Q17.\tExtract all values from a dictionary into a list using a dictionary method."
   ]
  },
  {
   "cell_type": "code",
   "execution_count": 18,
   "id": "e2aec095",
   "metadata": {},
   "outputs": [
    {
     "data": {
      "text/plain": [
       "[1, 2, 3]"
      ]
     },
     "execution_count": 18,
     "metadata": {},
     "output_type": "execute_result"
    }
   ],
   "source": [
    "my_dict = {'a': 1, 'b': 2, 'c': 3}\n",
    "values_list = list(my_dict.values())\n",
    "values_list"
   ]
  },
  {
   "cell_type": "code",
   "execution_count": null,
   "id": "193e8bec",
   "metadata": {},
   "outputs": [],
   "source": []
  }
 ],
 "metadata": {
  "kernelspec": {
   "display_name": "Python 3 (ipykernel)",
   "language": "python",
   "name": "python3"
  },
  "language_info": {
   "codemirror_mode": {
    "name": "ipython",
    "version": 3
   },
   "file_extension": ".py",
   "mimetype": "text/x-python",
   "name": "python",
   "nbconvert_exporter": "python",
   "pygments_lexer": "ipython3",
   "version": "3.9.13"
  }
 },
 "nbformat": 4,
 "nbformat_minor": 5
}
