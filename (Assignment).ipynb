{
 "cells": [
  {
   "cell_type": "markdown",
   "id": "c6385915",
   "metadata": {},
   "source": [
    "# Assignment Day-1 (Python)\n",
    "Sheetal Malhotra (96101)"
   ]
  },
  {
   "cell_type": "markdown",
   "id": "268d58e2",
   "metadata": {},
   "source": [
    "## 1. Convert a string to a zigzag pattern on a given number of rows and then read it row by row. - Input: s = \"PAYPALISHIRING\", numRows = 3\n"
   ]
  },
  {
   "cell_type": "code",
   "execution_count": 9,
   "id": "b754a944",
   "metadata": {},
   "outputs": [
    {
     "name": "stdout",
     "output_type": "stream",
     "text": [
      "Zigzag Pattern:\n",
      "PAHN\n",
      "APLSIIG\n",
      "YIR\n",
      "\n",
      "Final Output String: PAHNAPLSIIGYIR\n"
     ]
    }
   ],
   "source": [
    "def convert(s, numRows):\n",
    "    if numRows == 1 or numRows >= len(s):\n",
    "        return s  # No zigzag needed\n",
    "\n",
    "    # Create a list to hold strings for each row\n",
    "    rows = [''] * numRows\n",
    "    current_row = 0\n",
    "    going_down = False  # Direction flag\n",
    "\n",
    "    for char in s:\n",
    "        rows[current_row] += char  # Add the character to the current row\n",
    "        # Change direction when reaching the top or bottom\n",
    "        if current_row == 0 or current_row == numRows - 1:\n",
    "            going_down = not going_down\n",
    "        # Move up or down\n",
    "        current_row += 1 if going_down else -1\n",
    "\n",
    "    # Print the zigzag pattern\n",
    "    print(\"Zigzag Pattern:\")\n",
    "    for row in rows:\n",
    "        print(row)\n",
    "\n",
    "    # Concatenate all rows to get the final string\n",
    "    return ''.join(rows)\n",
    "\n",
    "input_str = \"PAYPALISHIRING\"\n",
    "num_rows = 3\n",
    "result = convert(input_str, num_rows)\n",
    "print(\"\\nFinal Output String:\", result) \n"
   ]
  },
  {
   "cell_type": "markdown",
   "id": "dd6360b4",
   "metadata": {},
   "source": [
    "## 2. Implement a method to perform basic string compression using the counts of repeated characters.\n",
    "   - Input: \"aabcccccaaa\"\n"
   ]
  },
  {
   "cell_type": "code",
   "execution_count": 10,
   "id": "55211026",
   "metadata": {},
   "outputs": [
    {
     "name": "stdout",
     "output_type": "stream",
     "text": [
      "a2b1c5a3\n"
     ]
    }
   ],
   "source": [
    "def compress_string(s):\n",
    "    if not s:\n",
    "        return \"\"\n",
    "\n",
    "    compressed = []\n",
    "    count = 1\n",
    "\n",
    "    for i in range(1, len(s)):\n",
    "        if s[i] == s[i - 1]:\n",
    "            count += 1\n",
    "        else:\n",
    "            compressed.append(s[i - 1] + str(count))\n",
    "            count = 1  # Reset count for the new character\n",
    "\n",
    "    # Add the last character and its count\n",
    "    compressed.append(s[-1] + str(count))\n",
    "\n",
    "    # Join the list into a string\n",
    "    compressed_string = ''.join(compressed)\n",
    "\n",
    "    # Return the original string if compressed string is longer\n",
    "    return compressed_string if len(compressed_string) < len(s) else s\n",
    "\n",
    "input_str = \"aabcccccaaa\"\n",
    "result = compress_string(input_str)\n",
    "print(result)  \n"
   ]
  },
  {
   "cell_type": "markdown",
   "id": "63c4a7bb",
   "metadata": {},
   "source": [
    "## 3. Write a function that generates all possible permutations of a given string.\n",
    "   - Input: \"ABC\"\n"
   ]
  },
  {
   "cell_type": "code",
   "execution_count": 11,
   "id": "eb8c661d",
   "metadata": {},
   "outputs": [
    {
     "name": "stdout",
     "output_type": "stream",
     "text": [
      "Enter a string: wdc\n",
      "['wdc', 'wcd', 'dwc', 'dcw', 'cwd', 'cdw']\n"
     ]
    }
   ],
   "source": [
    "def pnc(s):\n",
    "    if len(s) == 0:\n",
    "      return []\n",
    "    if len(s)==1:\n",
    "      return [s]\n",
    "    pncs = []\n",
    "    for i in range(len(s)):\n",
    "      remain = s[:i]+s[i+1:]\n",
    "      #print(remain+\"r----\")\n",
    "      for p in pnc(remain):\n",
    "            # Append the current character to the front of each permutation\n",
    "            pncs.append(s[i] + p)\n",
    "            #print(p+\"---\")\n",
    "            #print(pncs)\n",
    "    \n",
    "    return pncs\n",
    "    \n",
    "input_str = input(\"Enter a string: \")\n",
    "result = pnc(input_str)\n",
    "print(result)"
   ]
  },
  {
   "cell_type": "code",
   "execution_count": 12,
   "id": "ad4af744",
   "metadata": {},
   "outputs": [
    {
     "name": "stdout",
     "output_type": "stream",
     "text": [
      "Enter a string: ed\n",
      "['de', 'ed']\n"
     ]
    }
   ],
   "source": [
    "def pnc(s):\n",
    "    # List to store all permutations\n",
    "    pncs = []\n",
    "    \n",
    "    # Initialize the stack with the first character as an empty prefix and the input string\n",
    "    stack = [(\"\", s)]\n",
    "    #print(stack)\n",
    "    \n",
    "    # Process each item in the stack\n",
    "    while stack:\n",
    "        # Pop an item (prefix, remaining characters)\n",
    "        prefix, remaining = stack.pop()\n",
    "       # print(\"loop started ------\")\n",
    "        #print(prefix)\n",
    "        #print(remaining)\n",
    "        \n",
    "        # If no remaining characters, we have a full permutation\n",
    "        if len(remaining) == 0:\n",
    "            pncs.append(prefix)\n",
    "        else:\n",
    "            # Generate permutations by selecting each character and adding it to the prefix\n",
    "            for i in range(len(remaining)):\n",
    "                new_prefix = prefix + remaining[i]\n",
    "                #print(new_prefix+\"----\")\n",
    "                new_remaining = remaining[:i] + remaining[i+1:]\n",
    "                \n",
    "                stack.append((new_prefix, new_remaining))\n",
    "                #print(stack)\n",
    "    return pncs\n",
    "\n",
    "input_str = input(\"Enter a string: \")\n",
    "result = pnc(input_str)\n",
    "print(result)\n"
   ]
  },
  {
   "cell_type": "markdown",
   "id": "a2f7309c",
   "metadata": {},
   "source": [
    "## 4. Given an array of strings, group anagrams together.\n",
    "   - Input: [\"eat\", \"tea\", \"tan\", \"ate\", \"nat\", \"bat\"]\n"
   ]
  },
  {
   "cell_type": "code",
   "execution_count": 13,
   "id": "0b98b232",
   "metadata": {},
   "outputs": [
    {
     "name": "stdout",
     "output_type": "stream",
     "text": [
      "[['eat', 'tea', 'ate'], ['tan', 'nat'], ['bat']]\n"
     ]
    }
   ],
   "source": [
    "def groupAnagrams(strs):\n",
    "    anagrams = {}  # Dictionary to store sorted string as key and anagrams as values\n",
    "    \n",
    "    for word in strs:\n",
    "        # Sort the word to create the key\n",
    "        sorted_word = ''.join(sorted(word))\n",
    "        \n",
    "        if sorted_word not in anagrams:\n",
    "            anagrams[sorted_word] = [word]\n",
    "        else:\n",
    "            anagrams[sorted_word].append(word)\n",
    "    \n",
    "    return list(anagrams.values())\n",
    "\n",
    "input_list = [\"eat\", \"tea\", \"tan\", \"ate\", \"nat\", \"bat\"]\n",
    "result = groupAnagrams(input_list)\n",
    "print(result)\n"
   ]
  },
  {
   "cell_type": "markdown",
   "id": "2a9dcbcf",
   "metadata": {},
   "source": [
    "## 5. Write a function to multiply two large numbers represented as strings.\n",
    "   - Input: num1 = \"123\", num2 = \"456\"\n"
   ]
  },
  {
   "cell_type": "code",
   "execution_count": 14,
   "id": "d1032156",
   "metadata": {},
   "outputs": [
    {
     "name": "stdout",
     "output_type": "stream",
     "text": [
      "56088\n"
     ]
    }
   ],
   "source": [
    "def multiply(num1, num2):\n",
    "    return str(int(num1) * int(num2))\n",
    "num1 = \"123\"\n",
    "num2 = \"456\"\n",
    "result = multiply(num1, num2)\n",
    "print(result) \n"
   ]
  },
  {
   "cell_type": "markdown",
   "id": "a1499dab",
   "metadata": {},
   "source": [
    "## 6. Given two strings, check if one is a rotation of the other using only one call to a string method.\n",
    "   - Input: str1 = \"ABCD\", str2 = \"DABC\"\n"
   ]
  },
  {
   "cell_type": "code",
   "execution_count": 15,
   "id": "d65eca32",
   "metadata": {},
   "outputs": [
    {
     "name": "stdout",
     "output_type": "stream",
     "text": [
      "True\n"
     ]
    }
   ],
   "source": [
    "def are_rotations(str1, str2):\n",
    "    return len(str1) == len(str2) and str2 in str1 + str1\n",
    "str1 = \"ABCD\"\n",
    "str2 = \"DABC\"\n",
    "result = are_rotations(str1, str2)\n",
    "print(result)\n"
   ]
  },
  {
   "cell_type": "markdown",
   "id": "a72629b7",
   "metadata": {},
   "source": [
    "## 7. Given a string containing just the characters (, ), {, }, [, and ], determine if the input string is valid.\n",
    "   - Input: \"()[]{}\"\n"
   ]
  },
  {
   "cell_type": "code",
   "execution_count": 16,
   "id": "42caef8e",
   "metadata": {},
   "outputs": [
    {
     "name": "stdout",
     "output_type": "stream",
     "text": [
      "True\n"
     ]
    }
   ],
   "source": [
    "def is_valid(s):\n",
    "    # Dictionary to hold matching pairs\n",
    "    bracket_map = {')': '(', '}': '{', ']': '['}\n",
    "    stack = []\n",
    "\n",
    "    # Iterate through each character in the string\n",
    "    for char in s:\n",
    "        if char in bracket_map:  # If the character is a closing bracket\n",
    "            top_element = stack.pop() if stack else '#'  # Get the top element of the stack or a placeholder\n",
    "            if bracket_map[char] != top_element:  # Check if it matches the expected opening bracket\n",
    "                return False\n",
    "        else:  # If it's an opening bracket\n",
    "            stack.append(char)  # Push onto the stack\n",
    "\n",
    "    return not stack  # If the stack is empty, all brackets are valid\n",
    "\n",
    "input_str = \"()[]{}\"\n",
    "result = is_valid(input_str)\n",
    "print(result) \n"
   ]
  },
  {
   "cell_type": "markdown",
   "id": "a06620c7",
   "metadata": {},
   "source": [
    "## 8. Implement the function atoi which converts a string to an integer.\n",
    "   - Input: \"4193 with words\"\n"
   ]
  },
  {
   "cell_type": "code",
   "execution_count": 17,
   "id": "1170da7a",
   "metadata": {},
   "outputs": [
    {
     "name": "stdout",
     "output_type": "stream",
     "text": [
      "4193\n"
     ]
    }
   ],
   "source": [
    "def my_atoi(s):\n",
    "    INT_MAX = 2**31 - 1\n",
    "    INT_MIN = -2**31\n",
    "    index = 0\n",
    "    sign = 1\n",
    "    result = 0\n",
    "    n = len(s)\n",
    "    \n",
    "    # Skip leading whitespace\n",
    "    while index < n and s[index] == ' ':\n",
    "        index += 1\n",
    "        \n",
    "    # Check for optional sign\n",
    "    if index < n and (s[index] == '-' or s[index] == '+'):\n",
    "        sign = -1 if s[index] == '-' else 1\n",
    "        index += 1\n",
    "        \n",
    "    # Convert the digits to an integer\n",
    "    while index < n and s[index].isdigit():\n",
    "        digit = int(s[index])\n",
    "        \n",
    "        # Handle overflow\n",
    "        if result > (INT_MAX - digit) // 10:\n",
    "            return INT_MAX if sign == 1 else INT_MIN\n",
    "            \n",
    "        result = result * 10 + digit\n",
    "        index += 1\n",
    "        \n",
    "    return sign * result\n",
    "\n",
    "input_str = \"4193 with words\"\n",
    "result = my_atoi(input_str)\n",
    "print(result) \n"
   ]
  },
  {
   "cell_type": "markdown",
   "id": "98d7cbf9",
   "metadata": {},
   "source": [
    "## 9. Write a function that generates the nth term of the \"count and say\" sequence.\n",
    "   - Input: n = 4\n"
   ]
  },
  {
   "cell_type": "code",
   "execution_count": 18,
   "id": "a0ec2564",
   "metadata": {},
   "outputs": [
    {
     "name": "stdout",
     "output_type": "stream",
     "text": [
      "1211\n"
     ]
    }
   ],
   "source": [
    "def count_and_say(n):\n",
    "    if n == 1:\n",
    "        return \"1\"\n",
    "    \n",
    "    # Start with the first term in the sequence\n",
    "    term = \"1\"\n",
    "    \n",
    "    for _ in range(1, n):\n",
    "        next_term = \"\"\n",
    "        count = 1\n",
    "        \n",
    "        # Iterate through the current term to build the next term\n",
    "        for j in range(1, len(term)):\n",
    "            if term[j] == term[j - 1]:\n",
    "                count += 1  # Increment count if the same digit is encountered\n",
    "            else:\n",
    "                # Append count and digit to the next term\n",
    "                next_term += str(count) + term[j - 1]\n",
    "                count = 1  # Reset count for the new digit\n",
    "        next_term += str(count) + term[-1]\n",
    "        term = next_term\n",
    "    \n",
    "    return term\n",
    "\n",
    "n = 4\n",
    "result = count_and_say(n)\n",
    "print(result) \n"
   ]
  },
  {
   "cell_type": "markdown",
   "id": "10b4fbc0",
   "metadata": {},
   "source": [
    "## 10. Given two strings s and t, return the minimum window in s which will contain all the characters in t.\n",
    "   - Input: s = \"ADOBECODEBANC\", t = \"ABC\"\n"
   ]
  },
  {
   "cell_type": "code",
   "execution_count": 19,
   "id": "8ad5aa80",
   "metadata": {},
   "outputs": [
    {
     "name": "stdout",
     "output_type": "stream",
     "text": [
      "BANC\n"
     ]
    }
   ],
   "source": [
    "from collections import Counter, defaultdict\n",
    "\n",
    "def min_window(s, t):\n",
    "    if not s or not t:\n",
    "        return \"\"\n",
    "\n",
    "    dict_t = Counter(t)\n",
    "    required = len(dict_t)\n",
    "\n",
    "    l, r = 0, 0\n",
    "    formed = 0\n",
    "    window_counts = defaultdict(int)\n",
    "\n",
    "    ans = float(\"inf\"), None, None\n",
    "\n",
    "    while r < len(s):\n",
    "        char = s[r]\n",
    "        window_counts[char] += 1\n",
    "\n",
    "        if char in dict_t and window_counts[char] == dict_t[char]:\n",
    "            formed += 1\n",
    "\n",
    "        while l <= r and formed == required:\n",
    "            char = s[l]\n",
    "\n",
    "            if r - l + 1 < ans[0]:\n",
    "                ans = (r - l + 1, l, r)\n",
    "\n",
    "            window_counts[char] -= 1\n",
    "            if char in dict_t and window_counts[char] < dict_t[char]:\n",
    "                formed -= 1\n",
    "\n",
    "            l += 1\n",
    "\n",
    "        r += 1\n",
    "\n",
    "    return \"\" if ans[0] == float(\"inf\") else s[ans[1]: ans[2] + 1]\n",
    "\n",
    "\n",
    "s = \"ADOBECODEBANC\"\n",
    "t = \"ABC\"\n",
    "result = min_window(s, t)\n",
    "print(result) \n"
   ]
  },
  {
   "cell_type": "markdown",
   "id": "ddff3704",
   "metadata": {},
   "source": [
    "## 11. Given a string, find the length of the longest substring without repeating characters.\n",
    "   - Input: \"abcabcbb\"\n"
   ]
  },
  {
   "cell_type": "code",
   "execution_count": 20,
   "id": "ca9f14a7",
   "metadata": {},
   "outputs": [
    {
     "name": "stdout",
     "output_type": "stream",
     "text": [
      "3\n"
     ]
    }
   ],
   "source": [
    "def length_of_longest_substring(s):\n",
    "    char_index = {}\n",
    "    max_length = 0\n",
    "    start = 0\n",
    "\n",
    "    for end in range(len(s)):\n",
    "        if s[end] in char_index:\n",
    "            # Update the start position to the right of the last occurrence\n",
    "            start = max(start, char_index[s[end]] + 1)\n",
    "\n",
    "        # Update the last seen index of the character\n",
    "        char_index[s[end]] = end\n",
    "\n",
    "        max_length = max(max_length, end - start + 1)\n",
    "\n",
    "    return max_length\n",
    "\n",
    "input_str = \"abcabcbb\"\n",
    "result = length_of_longest_substring(input_str)\n",
    "print(result)  \n"
   ]
  },
  {
   "cell_type": "markdown",
   "id": "5b5eb01c",
   "metadata": {},
   "source": [
    "## 12. Given three strings s1, s2, and s3, determine if s3 is formed by the interleaving of s1 and s2.\n",
    "   - Input: s1 = \"aabcc\", s2 = \"dbbca\", s3 = \"aadbbcbcac\"\n"
   ]
  },
  {
   "cell_type": "code",
   "execution_count": 21,
   "id": "24dae9a2",
   "metadata": {},
   "outputs": [
    {
     "name": "stdout",
     "output_type": "stream",
     "text": [
      "True\n"
     ]
    }
   ],
   "source": [
    "def is_interleave(s1, s2, s3):\n",
    "    # Check if the lengths match\n",
    "    if len(s1) + len(s2) != len(s3):\n",
    "        return False\n",
    "\n",
    "    memo = {}\n",
    "\n",
    "    def dp(i, j, k):\n",
    "        # Base case: if all characters from s3 are used\n",
    "        if k == len(s3):\n",
    "            return True\n",
    "        if (i, j) in memo:\n",
    "            return memo[(i, j)]\n",
    "\n",
    "        # Check if characters from s1 or s2 match s3\n",
    "        pick_s1 = (i < len(s1) and s1[i] == s3[k] and dp(i + 1, j, k + 1))\n",
    "        pick_s2 = (j < len(s2) and s2[j] == s3[k] and dp(i, j + 1, k + 1))\n",
    "\n",
    "        memo[(i, j)] = pick_s1 or pick_s2\n",
    "        return memo[(i, j)]\n",
    "\n",
    "    return dp(0, 0, 0)\n",
    "s1 = \"aabcc\"\n",
    "s2 = \"dbbca\"\n",
    "s3 = \"aadbbcbcac\"\n",
    "result = is_interleave(s1, s2, s3)\n",
    "print(result)  \n"
   ]
  },
  {
   "cell_type": "markdown",
   "id": "89e76f8a",
   "metadata": {},
   "source": [
    "## 13. Write a function to convert a Roman numeral to an integer.\n",
    "   - Input: \"MCMXCIV\"\n"
   ]
  },
  {
   "cell_type": "code",
   "execution_count": 22,
   "id": "e74943ea",
   "metadata": {},
   "outputs": [
    {
     "name": "stdout",
     "output_type": "stream",
     "text": [
      "1994\n"
     ]
    }
   ],
   "source": [
    "def roman_to_integer(s):\n",
    "    roman_values = {\n",
    "        'I': 1,\n",
    "        'V': 5,\n",
    "        'X': 10,\n",
    "        'L': 50,\n",
    "        'C': 100,\n",
    "        'D': 500,\n",
    "        'M': 1000\n",
    "    }\n",
    "    \n",
    "    total = 0\n",
    "    prev_value = 0\n",
    "\n",
    "    for char in reversed(s):\n",
    "        current_value = roman_values[char]\n",
    "       \n",
    "        if current_value < prev_value:\n",
    "            total -= current_value\n",
    "        else:\n",
    "            total += current_value\n",
    "        \n",
    "        prev_value = current_value\n",
    "\n",
    "    return total\n",
    "\n",
    "input_str = \"MCMXCIV\"\n",
    "result = roman_to_integer(input_str)\n",
    "print(result)  \n"
   ]
  },
  {
   "cell_type": "markdown",
   "id": "97795872",
   "metadata": {},
   "source": [
    "## 14. Find the longest common substring between two strings.\n",
    "   - Input: str1 = \"ABABC\", str2 = \"BABCA\"\n"
   ]
  },
  {
   "cell_type": "code",
   "execution_count": 23,
   "id": "ba5d12b7",
   "metadata": {},
   "outputs": [
    {
     "name": "stdout",
     "output_type": "stream",
     "text": [
      "BABC\n"
     ]
    }
   ],
   "source": [
    "def longest_common_substring(str1, str2):\n",
    "    m = len(str1)\n",
    "    n = len(str2)\n",
    "    \n",
    "    # Create a 2D array to store lengths of longest common suffixes\n",
    "    dp = [[0] * (n + 1) for _ in range(m + 1)]\n",
    "    \n",
    "    longest_length = 0\n",
    "    end_index = 0  # To track the end index of the longest substring in str1\n",
    "\n",
    "    # Build the dp array\n",
    "    for i in range(1, m + 1):\n",
    "        for j in range(1, n + 1):\n",
    "            if str1[i - 1] == str2[j - 1]:\n",
    "                dp[i][j] = dp[i - 1][j - 1] + 1  # Increment length of common substring\n",
    "                if dp[i][j] > longest_length:\n",
    "                    longest_length = dp[i][j]\n",
    "                    end_index = i  # Update end index\n",
    "            else:\n",
    "                dp[i][j] = 0  # No common substring\n",
    "\n",
    "    longest_substring = str1[end_index - longest_length:end_index]\n",
    "\n",
    "    return longest_substring\n",
    "\n",
    "str1 = \"ABABC\"\n",
    "str2 = \"BABCA\"\n",
    "result = longest_common_substring(str1, str2)\n",
    "print(result) \n"
   ]
  },
  {
   "cell_type": "markdown",
   "id": "080c67fd",
   "metadata": {},
   "source": [
    "## 15. Given a string s and a dictionary of words, check if s can be segmented into a space-separated sequence of one or more dictionary words.\n",
    "   - Input: s = \"leetcode\", wordDict = [\"leet\", \"code\"]\n"
   ]
  },
  {
   "cell_type": "code",
   "execution_count": 24,
   "id": "54ca28b6",
   "metadata": {},
   "outputs": [
    {
     "name": "stdout",
     "output_type": "stream",
     "text": [
      "True\n"
     ]
    }
   ],
   "source": [
    "def word_break(s, wordDict):\n",
    "    # Create a set from the wordDict for O(1) lookups\n",
    "    word_set = set(wordDict)\n",
    "    n = len(s)\n",
    "    \n",
    "    # Create a DP array of size n + 1\n",
    "    dp = [False] * (n + 1)\n",
    "    dp[0] = True  # Base case: empty string can be segmented\n",
    "\n",
    "    # Check each substring\n",
    "    for i in range(1, n + 1):\n",
    "        for j in range(i):\n",
    "            # If the substring s[j:i] is in the dictionary and dp[j] is True\n",
    "            if dp[j] and s[j:i] in word_set:\n",
    "                dp[i] = True\n",
    "                break  # No need to check further if we found a valid segment\n",
    "\n",
    "    return dp[n]\n",
    "\n",
    "s = \"leetcode\"\n",
    "wordDict = [\"leet\", \"code\"]\n",
    "result = word_break(s, wordDict)\n",
    "print(result)\n"
   ]
  },
  {
   "cell_type": "markdown",
   "id": "ad2c2464",
   "metadata": {},
   "source": [
    "## 16. Remove the minimum number of invalid parentheses to make the input string valid. Return all possible results.\n",
    "   - Input: \"()())()\"\n"
   ]
  },
  {
   "cell_type": "code",
   "execution_count": 25,
   "id": "e665bc73",
   "metadata": {},
   "outputs": [
    {
     "name": "stdout",
     "output_type": "stream",
     "text": [
      "['(())()', '()()()']\n"
     ]
    }
   ],
   "source": [
    "from collections import deque\n",
    "\n",
    "def is_valid(s):\n",
    "    # Helper function to check if the parentheses in the string are valid\n",
    "    count = 0\n",
    "    for char in s:\n",
    "        if char == '(':\n",
    "            count += 1\n",
    "        elif char == ')':\n",
    "            count -= 1\n",
    "        if count < 0:\n",
    "            return False\n",
    "    return count == 0\n",
    "\n",
    "def remove_invalid_parentheses(s):\n",
    "    # Use BFS to explore all possible states\n",
    "    queue = deque([s])\n",
    "    visited = set([s])\n",
    "    found = False\n",
    "    results = []\n",
    "\n",
    "    while queue:\n",
    "        current = queue.popleft()\n",
    "\n",
    "        if is_valid(current):\n",
    "            results.append(current)\n",
    "            found = True  # Valid expression found, mark it\n",
    "\n",
    "        if found:\n",
    "            continue  # No need to explore further if we found valid strings\n",
    "\n",
    "        # Try removing one parenthesis at a time\n",
    "        for i in range(len(current)):\n",
    "            if current[i] not in '()':\n",
    "                continue\n",
    "            next_state = current[:i] + current[i + 1:]  # Remove char\n",
    "            if next_state not in visited:\n",
    "                visited.add(next_state)\n",
    "                queue.append(next_state)\n",
    "\n",
    "    return results\n",
    "\n",
    "input_str = \"()())()\"\n",
    "result = remove_invalid_parentheses(input_str)\n",
    "print(result)\n"
   ]
  }
 ],
 "metadata": {
  "kernelspec": {
   "display_name": "Python 3 (ipykernel)",
   "language": "python",
   "name": "python3"
  },
  "language_info": {
   "codemirror_mode": {
    "name": "ipython",
    "version": 3
   },
   "file_extension": ".py",
   "mimetype": "text/x-python",
   "name": "python",
   "nbconvert_exporter": "python",
   "pygments_lexer": "ipython3",
   "version": "3.9.13"
  }
 },
 "nbformat": 4,
 "nbformat_minor": 5
}
